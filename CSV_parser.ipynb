{
 "cells": [
  {
   "cell_type": "code",
   "execution_count": 1,
   "metadata": {},
   "outputs": [],
   "source": [
    "import csv\n",
    "import json"
   ]
  },
  {
   "cell_type": "code",
   "execution_count": 27,
   "metadata": {},
   "outputs": [
    {
     "name": "stdout",
     "output_type": "stream",
     "text": [
      "/Users/dmitrij\n"
     ]
    }
   ],
   "source": [
    "cd"
   ]
  },
  {
   "cell_type": "code",
   "execution_count": 28,
   "metadata": {},
   "outputs": [],
   "source": [
    "with open('Downloads/BoardingData.csv') as f:\n",
    "    reader = csv.DictReader(f, delimiter=';')\n",
    "    rows = list(reader)"
   ]
  },
  {
   "cell_type": "code",
   "execution_count": 33,
   "metadata": {
    "scrolled": true
   },
   "outputs": [
    {
     "data": {
      "text/plain": [
       "OrderedDict([('PassengerFirstName', 'SAVELII'),\n",
       "             ('PassengerSecondName', 'VIKTOROVICH'),\n",
       "             ('PassengerLastName', 'RUSANOV'),\n",
       "             ('PassengerSex', 'Male'),\n",
       "             ('PassengerBirthDate', '03/10/1983'),\n",
       "             ('PassengerDocument', '2879 096860'),\n",
       "             ('BookingCode', 'FRNINO'),\n",
       "             ('TicketNumber', '6625956945991971'),\n",
       "             ('Baggage', 'Transit'),\n",
       "             ('FlightDate', '2017-03-22'),\n",
       "             ('FlightTime', '06:05'),\n",
       "             ('FlightNumber', 'SU1369'),\n",
       "             ('CodeShare', 'Own'),\n",
       "             ('Destination', 'Moscow')])"
      ]
     },
     "execution_count": 33,
     "metadata": {},
     "output_type": "execute_result"
    }
   ],
   "source": [
    "rows[0]"
   ]
  },
  {
   "cell_type": "code",
   "execution_count": 34,
   "metadata": {},
   "outputs": [
    {
     "name": "stdout",
     "output_type": "stream",
     "text": [
      "/Users/dmitrij/B.I.G DATA Dymin\n"
     ]
    }
   ],
   "source": [
    "cd B.I.G\\ DATA\\ Dymin"
   ]
  },
  {
   "cell_type": "code",
   "execution_count": 35,
   "metadata": {},
   "outputs": [],
   "source": [
    "with open('BoardingData.json', 'w') as f:\n",
    "    json.dump(rows, f)"
   ]
  },
  {
   "cell_type": "code",
   "execution_count": 36,
   "metadata": {},
   "outputs": [],
   "source": [
    "f.close()"
   ]
  },
  {
   "cell_type": "code",
   "execution_count": null,
   "metadata": {},
   "outputs": [],
   "source": []
  }
 ],
 "metadata": {
  "kernelspec": {
   "display_name": "Python 3",
   "language": "python",
   "name": "python3"
  },
  "language_info": {
   "codemirror_mode": {
    "name": "ipython",
    "version": 3
   },
   "file_extension": ".py",
   "mimetype": "text/x-python",
   "name": "python",
   "nbconvert_exporter": "python",
   "pygments_lexer": "ipython3",
   "version": "3.7.3"
  }
 },
 "nbformat": 4,
 "nbformat_minor": 2
}
